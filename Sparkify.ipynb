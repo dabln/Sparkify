{
 "cells": [
  {
   "cell_type": "markdown",
   "metadata": {},
   "source": [
    "# Churn Analysis for Sparkify\n",
    "# Content\n",
    "<ul>\n",
    "<li><a href=\"#intro\">Introduction</a></li>\n",
    "<li><a href=\"#wrangling\">Data Wrangling</a></li>\n",
    "    <ul><li><a href=\"#gather\">Gather data</a></li></ul>\n",
    "    <ul><li><a href=\"#assess_and_clean\">Assess and clean</a></li></ul>\n",
    "<li><a href=\"#eda\">Exploratory Data Analysis</a></li>\n",
    "<li><a href=\"#conclusions\">Conclusions</a></li>\n",
    "</ul>\n",
    "\n",
    "<a id='intro'></a>\n",
    "# Intro\n",
    "We're analyzing data of a music streaming service named Sparkify. The goal is the prediction of customer turnover (churn). The full dataset is 12 GB of logfile data. Apache Spark as a technology for distributed data processing is used to cope with this amount of data. This workspace uses a 0.1 GB subset of the data.\n",
    "\n",
    "<a id='wrangling'></a>\n",
    "# Data Wrangling\n",
    "<a id='gather'></a>\n",
    "## Gather data\n",
    "Import libraries"
   ]
  },
  {
   "cell_type": "code",
   "execution_count": 1,
   "metadata": {},
   "outputs": [],
   "source": [
    "import numpy as np\n",
    "import matplotlib.pyplot as plt\n",
    "import seaborn as sb\n",
    "%matplotlib inline\n",
    "\n",
    "import datetime\n",
    "import time\n",
    "\n",
    "from pyspark.sql import SparkSession, Window\n",
    "import pyspark.sql.functions as F\n",
    "from pyspark.sql.functions import count, when, isnan, col, desc, udf, avg, row_number, datediff, lit\n",
    "from pyspark.sql.types import IntegerType\n",
    "from pyspark.ml import Pipeline, PipelineModel\n",
    "from pyspark.ml.feature import VectorAssembler, StringIndexer, StandardScaler\n",
    "from pyspark.ml.classification import LogisticRegression, RandomForestClassifier\n",
    "from pyspark.ml.tuning import CrossValidator, ParamGridBuilder\n",
    "from pyspark.ml.evaluation import BinaryClassificationEvaluator, MulticlassClassificationEvaluator"
   ]
  },
  {
   "cell_type": "markdown",
   "metadata": {},
   "source": [
    "Create a Spark session"
   ]
  },
  {
   "cell_type": "code",
   "execution_count": 2,
   "metadata": {},
   "outputs": [],
   "source": [
    "spark = SparkSession.builder \\\n",
    "    .appName('Sparkify') \\\n",
    "    .getOrCreate()"
   ]
  },
  {
   "cell_type": "code",
   "execution_count": 3,
   "metadata": {},
   "outputs": [
    {
     "data": {
      "text/plain": [
       "DataFrame[artist: string, auth: string, firstName: string, gender: string, itemInSession: bigint, lastName: string, length: double, level: string, location: string, method: string, page: string, registration: bigint, sessionId: bigint, song: string, status: bigint, ts: bigint, userAgent: string, userId: string]"
      ]
     },
     "execution_count": 3,
     "metadata": {},
     "output_type": "execute_result"
    }
   ],
   "source": [
    "sparkify = 'mini_sparkify_event_data.json'\n",
    "# path = \"s3n://udacity-dsnd/sparkify/mini_sparkify_event_data.json\"\n",
    "df = spark.read.json(sparkify)\n",
    "df.persist()"
   ]
  },
  {
   "cell_type": "markdown",
   "metadata": {},
   "source": [
    "<a id='assess_and_clean'></a>\n",
    "## Assess and clean"
   ]
  },
  {
   "cell_type": "code",
   "execution_count": 4,
   "metadata": {},
   "outputs": [
    {
     "name": "stdout",
     "output_type": "stream",
     "text": [
      "The dataset has 286500 rows and 226 users.\n"
     ]
    }
   ],
   "source": [
    "print('The dataset has {} rows and {} users.'.format(df.count(), df.select('userId').drop_duplicates().count()))"
   ]
  },
  {
   "cell_type": "code",
   "execution_count": null,
   "metadata": {},
   "outputs": [],
   "source": [
    "df.printSchema()"
   ]
  },
  {
   "cell_type": "code",
   "execution_count": null,
   "metadata": {},
   "outputs": [],
   "source": [
    "df.head(1)"
   ]
  },
  {
   "cell_type": "code",
   "execution_count": null,
   "metadata": {},
   "outputs": [],
   "source": [
    "# lines per user\n",
    "df.groupby('userId').count().orderBy(desc('count')).show(5)"
   ]
  },
  {
   "cell_type": "markdown",
   "metadata": {},
   "source": [
    "Summary statistics: learn about the data and find unexpected entries:"
   ]
  },
  {
   "cell_type": "code",
   "execution_count": null,
   "metadata": {},
   "outputs": [],
   "source": [
    "df.describe(df.columns[:6]).show()"
   ]
  },
  {
   "cell_type": "code",
   "execution_count": null,
   "metadata": {},
   "outputs": [],
   "source": [
    "df.describe(df.columns[7:13]).show()"
   ]
  },
  {
   "cell_type": "code",
   "execution_count": null,
   "metadata": {},
   "outputs": [],
   "source": [
    "df.describe(df.columns[14:]).show()"
   ]
  },
  {
   "cell_type": "markdown",
   "metadata": {},
   "source": [
    "### Invalid/missing data\n",
    "#### userID and sessionID: We find no NaN or Null values  ..."
   ]
  },
  {
   "cell_type": "code",
   "execution_count": 5,
   "metadata": {},
   "outputs": [
    {
     "data": {
      "text/plain": [
       "[Row(artist=58392, auth=0, firstName=8346, gender=8346, itemInSession=0, lastName=8346, length=58392, level=0, location=8346, method=0, page=0, registration=8346, sessionId=0, song=58392, status=0, ts=0, userAgent=8346, userId=0)]"
      ]
     },
     "execution_count": 5,
     "metadata": {},
     "output_type": "execute_result"
    }
   ],
   "source": [
    "# inspired by https://stackoverflow.com/questions/44627386/how-to-find-count-of-null-and-nan-values-for-each-column-in-a-pyspark-dataframe/44631639#44631639\n",
    "df.select([count(when(isnan(c) | col(c).isNull(), c)).alias(c) for c in df.columns]).collect()"
   ]
  },
  {
   "cell_type": "markdown",
   "metadata": {},
   "source": [
    "#### ... but some empty strings in userID\n",
    "The function 'describe' above shows there is no empty string in `sessionId` but at least one empty string in `userId` (min() is empty string).\n",
    "\n",
    "We notice that for empty `userId`s the auth shows 'Logged Out'..."
   ]
  },
  {
   "cell_type": "code",
   "execution_count": null,
   "metadata": {},
   "outputs": [],
   "source": [
    "print('UserId is empty in {} cases.'.format(df.filter(df.userId == '').count()))\n",
    "df.filter(df.userId == '').groupBy('auth').count()"
   ]
  },
  {
   "cell_type": "markdown",
   "metadata": {},
   "source": [
    "... and we find that __the userId is missing _only_ when the user is not logged in__:"
   ]
  },
  {
   "cell_type": "code",
   "execution_count": null,
   "metadata": {},
   "outputs": [],
   "source": [
    "df.filter((df.userId == '') & (df.auth != 'Logged In')).count()"
   ]
  },
  {
   "cell_type": "markdown",
   "metadata": {},
   "source": [
    "#### Remove lines w/o userId\n",
    "__Define:__<br>\n",
    "filter using `userId != ''`.\n",
    "\n",
    "__Code:__"
   ]
  },
  {
   "cell_type": "code",
   "execution_count": 6,
   "metadata": {},
   "outputs": [],
   "source": [
    "lines_0 = df.count()\n",
    "df = df.filter(df.userId != '')"
   ]
  },
  {
   "cell_type": "markdown",
   "metadata": {},
   "source": [
    "__Test:__"
   ]
  },
  {
   "cell_type": "code",
   "execution_count": null,
   "metadata": {},
   "outputs": [],
   "source": [
    "df.groupBy('auth').count().show()"
   ]
  },
  {
   "cell_type": "code",
   "execution_count": null,
   "metadata": {},
   "outputs": [],
   "source": [
    "print('{:.0%} (count: {}) of the dataset rows are left.'.format(df.count() / lines_0, df.count()))"
   ]
  },
  {
   "cell_type": "markdown",
   "metadata": {},
   "source": [
    "### NaN in other columns\n",
    "NaN check above reveals: song, length, artist are missing the same number of rows & are missing more rows than the userId."
   ]
  },
  {
   "cell_type": "code",
   "execution_count": null,
   "metadata": {},
   "outputs": [],
   "source": [
    "print(\"{} lines are completely filled and there are {} lines where the 'page' is 'NextSong'.\".format(\n",
    "    df.dropna(how='any').count(),\n",
    "    df.filter(~df.song.isNull()).groupBy('page').count().sort(desc('count')).select('count').collect()))\n",
    "\n",
    "print('\\n{:.0%} of the log entries are songs requested.'.format(df.dropna(how='any').count() / df.count()))"
   ]
  },
  {
   "cell_type": "markdown",
   "metadata": {},
   "source": [
    "The columns song, length, artist are filled when the Sparkify user listens to songs. They are not filled e.g. for log entries \"Add to Playlist\", \"Thumbs Up\", etc.\n",
    "\n",
    "$\\rightarrow$ no problems to tackle with NaN values in other columns"
   ]
  },
  {
   "cell_type": "markdown",
   "metadata": {},
   "source": [
    "<a id='eda'></a>\n",
    "# Exploratory Data Analysis"
   ]
  },
  {
   "cell_type": "markdown",
   "metadata": {},
   "source": [
    "Those with most rows when logged in are candidates for the most heavy users:"
   ]
  },
  {
   "cell_type": "code",
   "execution_count": null,
   "metadata": {},
   "outputs": [],
   "source": [
    "df.groupBy('userId').count().sort(desc('count')).show(5)"
   ]
  },
  {
   "cell_type": "markdown",
   "metadata": {},
   "source": [
    "## Define Churn\n",
    "### Check how to identify churn"
   ]
  },
  {
   "cell_type": "code",
   "execution_count": 7,
   "metadata": {},
   "outputs": [
    {
     "name": "stdout",
     "output_type": "stream",
     "text": [
      "There are 52 cancellation events for 225 accounts in the dataset (i.e. 23% churn).\n"
     ]
    }
   ],
   "source": [
    "#df.select('page').dropDuplicates().sort('page').show() # identification step\n",
    "cancel_event_count = df.where(df.page == 'Cancellation Confirmation').count()\n",
    "account_count = df.select('userId').drop_duplicates().count()\n",
    "print('There are {} cancellation events for {} accounts in the dataset (i.e. {:.0%} churn).'.format( \n",
    "    cancel_event_count, account_count, cancel_event_count / account_count))"
   ]
  },
  {
   "cell_type": "markdown",
   "metadata": {},
   "source": [
    "$\\rightarrow$ adequate churn share in data to train a model"
   ]
  },
  {
   "cell_type": "markdown",
   "metadata": {},
   "source": [
    "### Create churn column\n",
    "__Define:__<br> \n",
    "Identify Churn as `df.page == 'Cancellation Confirmation'`. Create a column `Churn_user` which is 1 for a user with a cancellation confirmation. The cancellation is possible for both paid and free users.\n",
    "\n",
    "__Code:__"
   ]
  },
  {
   "cell_type": "code",
   "execution_count": 8,
   "metadata": {},
   "outputs": [
    {
     "name": "stdout",
     "output_type": "stream",
     "text": [
      "52 users churned\n"
     ]
    }
   ],
   "source": [
    "# create flag churn\n",
    "churn_event = udf(lambda x: 1 if x == 'Cancellation Confirmation' else 0, IntegerType())\n",
    "\n",
    "# create churn column: mark event\n",
    "df = df.withColumn('Churn', churn_event(df.page))\n",
    "\n",
    "# create churn column: mark customer (=userId); heavy lifting by Spark, list of userIds easier with Pandas\n",
    "users_churn = df.where(df.Churn == 1).select('userId').drop_duplicates().toPandas().values.tolist()\n",
    "users_churn = list(np.concatenate(users_churn).flat)  \n",
    "df = df.withColumn('Churn_user', when(col('userId').isin(users_churn), 1).otherwise(0))\n",
    "print('{} users churned'.format(df.select('userId').filter(df.userId.isin(users_churn)).dropDuplicates().count()))"
   ]
  },
  {
   "cell_type": "markdown",
   "metadata": {},
   "source": [
    "#### Test:\n",
    "column 'Churn' is 1 only in in cancellation row"
   ]
  },
  {
   "cell_type": "code",
   "execution_count": null,
   "metadata": {},
   "outputs": [],
   "source": [
    "df.select(['userId', 'firstName', 'ts', 'page', 'level', 'Churn']).where(df.userId == '125').sort('ts').collect() #9"
   ]
  },
  {
   "cell_type": "code",
   "execution_count": null,
   "metadata": {},
   "outputs": [],
   "source": [
    "df_churn_pd = df.select(['userId', 'Churn_user']).drop_duplicates().groupBy('Churn_user').count().toPandas()\n",
    "\n",
    "plt.figure(figsize = (6, 3))\n",
    "sb.set_style('darkgrid')\n",
    "sb.barplot(y='count', x='Churn_user', data=df_churn_pd)\n",
    "plt.title('User Count by Churn', fontsize=16)\n",
    "plt.xlabel('Churn (1=yes)', fontsize=12)\n",
    "plt.ylabel('Count', fontsize=12);"
   ]
  },
  {
   "cell_type": "code",
   "execution_count": null,
   "metadata": {},
   "outputs": [],
   "source": [
    "#### possible extension: consider `Downgrade` events:\n",
    "#= do not consider churn where a user cancels a paid subscription\n",
    "#\n",
    "### create flag downgrade\n",
    "#flag_downgrade_event = udf(lambda x: 1 if x=='Submit Downgrade' else 0, IntegerType())\n",
    "#\n",
    "### create downgraded column\n",
    "#df = df.withColumn('downgraded', flag_downgrade_event('page'))\n",
    "#\n",
    "### create flag free or paid phase\n",
    "#windowval = Window.partitionBy('userId').orderBy(desc('ts')).rangeBetween(Window.unboundedPreceding, 0)\n",
    "#df = df.withColumn('phase', F.sum('downgraded').over(windowval)) # phase: 1=paid before downgrade, 0=free \n",
    "#\n",
    "##df.select(['userId', 'firstName', 'ts', 'page', 'level', 'phase']).where(df.userId == '30').sort('ts').collect() #9"
   ]
  },
  {
   "cell_type": "markdown",
   "metadata": {},
   "source": [
    "## Songs per User"
   ]
  },
  {
   "cell_type": "markdown",
   "metadata": {},
   "source": [
    "As one approach we divide into users who cancel the usage. This is possible for both paid and free users."
   ]
  },
  {
   "cell_type": "markdown",
   "metadata": {},
   "source": [
    "#### Songs per User ... first impression, and then the next step: consider time scaling (e.g. per day) \n",
    "Those who cancel the service did use it considerably on average."
   ]
  },
  {
   "cell_type": "code",
   "execution_count": 9,
   "metadata": {},
   "outputs": [
    {
     "name": "stdout",
     "output_type": "stream",
     "text": [
      "Songs by churn:\n",
      " 0    191714\n",
      "1     36394\n",
      "Name: count, dtype: int64 \n",
      "\n",
      "Songs per User by Churn:\n",
      " 0      0.689366\n",
      "1    699.884615\n",
      "Name: count, dtype: float64\n"
     ]
    }
   ],
   "source": [
    "songs_by_churn = df.filter(df.page == 'NextSong').groupby(df.Churn_user).count().orderBy(df.Churn_user).toPandas()['count']\n",
    "count_by_churn = df.groupBy('Churn').count().orderBy('Churn').toPandas()['count']\n",
    "print('Songs by churn:\\n', songs_by_churn, \n",
    "      '\\n\\nSongs per User by Churn:\\n', songs_by_churn / count_by_churn)"
   ]
  },
  {
   "cell_type": "markdown",
   "metadata": {},
   "source": [
    "Most heavy users of those who cancel:"
   ]
  },
  {
   "cell_type": "code",
   "execution_count": null,
   "metadata": {},
   "outputs": [],
   "source": [
    "df.filter((df.page == 'NextSong') & (df.Churn_user == 1)).groupby('userId').count().orderBy(desc('count')).show(1)"
   ]
  },
  {
   "cell_type": "markdown",
   "metadata": {},
   "source": [
    "Least heavy users of those who cancel:"
   ]
  },
  {
   "cell_type": "code",
   "execution_count": null,
   "metadata": {},
   "outputs": [],
   "source": [
    "df.filter((df.page == 'NextSong') & (df.Churn_user == 1)).groupby('userId').count().orderBy('count').show(1)"
   ]
  },
  {
   "cell_type": "code",
   "execution_count": null,
   "metadata": {},
   "outputs": [],
   "source": [
    "# plot distribution of songs per user listened\n",
    "df_pd_0 = df.filter((df.page == 'NextSong') & (df.Churn_user == 0)).groupby('userId').count().toPandas()\n",
    "df_pd_1 = df.filter((df.page == 'NextSong') & (df.Churn_user == 1)).groupby('userId').count().toPandas()\n",
    "\n",
    "sb.distplot(df_pd_0['count'], hist=False, label='no churn')\n",
    "sb.distplot(df_pd_1['count'], hist=False, label='churn')\n",
    "plt.legend()\n",
    "plt.title('Songs per user frequency')\n",
    "plt.xlabel('Number of Songs');"
   ]
  },
  {
   "cell_type": "markdown",
   "metadata": {},
   "source": [
    "$\\rightarrow$ those who cancel typically listen to less songs in their lifetime $\\rightarrow$ check below for the activity per time unit."
   ]
  },
  {
   "cell_type": "markdown",
   "metadata": {},
   "source": [
    "# Feature Engineering\n",
    "Once you've familiarized yourself with the data, build out the features you find promising to train your model on. To work with the full dataset, you can follow the following steps.\n",
    "- Write a script to extract the necessary features from the smaller subset of data\n",
    "- Ensure that your script is scalable, using the best practices discussed in Lesson 3\n",
    "- Try your script on the full data set, debugging your script if necessary\n",
    "\n",
    "If you are working in the classroom workspace, you can just extract features based on the small subset of data contained here. Be sure to transfer over this work to the larger dataset when you work on your Spark cluster."
   ]
  },
  {
   "cell_type": "markdown",
   "metadata": {},
   "source": [
    "### Songs Listened per User and Day"
   ]
  },
  {
   "cell_type": "code",
   "execution_count": 10,
   "metadata": {},
   "outputs": [],
   "source": [
    "get_day = udf(lambda x: datetime.datetime.fromtimestamp(x / 1000.0).day)\n",
    "df = df.withColumn('day', get_day(df.ts))\n",
    "#songs_in_day_overall = df.filter(df.page == 'NextSong').groupby(df.day).count().orderBy(df.day.cast('float'))"
   ]
  },
  {
   "cell_type": "code",
   "execution_count": 11,
   "metadata": {},
   "outputs": [
    {
     "name": "stdout",
     "output_type": "stream",
     "text": [
      "+------+---+-----+\n",
      "|userId|day|count|\n",
      "+------+---+-----+\n",
      "|    10|  3|   63|\n",
      "|    10|  8|   57|\n",
      "+------+---+-----+\n",
      "only showing top 2 rows\n",
      "\n"
     ]
    }
   ],
   "source": [
    "songs_in_day = df.filter(df.page == 'NextSong').groupby([df.userId, df.day]).count().orderBy(df.userId, df.day.cast('float'))\n",
    "songs_in_day.show(2)\n",
    "#df.groupBy('Churn_users').agg(count(col('day')).show())"
   ]
  },
  {
   "cell_type": "markdown",
   "metadata": {},
   "source": [
    "### Days listened & Songs per Day\n",
    "__Define:__\n",
    "aggregate to 1 row per userID to generate usual input for a non time-series model instead of multiple lines per user\n",
    "\n",
    "Days listened = count the days where a user listened to songs\n",
    "\n",
    "\n",
    "average of days where the user listened would be inappropriate (e.g. only listening on 30th of a month would be a higher value than listening every day\n",
    "\n",
    "#### how many songs does the user listen to?\n",
    "The song count per userId might be too skewed for users new to the service vs. not new\n",
    "\n",
    "Therefore: average songs listened to on days where the service is used\n",
    "\n",
    "__Code:__"
   ]
  },
  {
   "cell_type": "code",
   "execution_count": 12,
   "metadata": {},
   "outputs": [],
   "source": [
    "songs_user = songs_in_day.groupby(['userId']).agg(count(col('day')), \n",
    "                                                  avg(col('count'))).orderBy('userId')\n",
    "songs_user = songs_user.select(col('userId'), \n",
    "                               col('count(day)').alias('days_listened'), \n",
    "                               col('avg(count)').alias('songs_per_day'))"
   ]
  },
  {
   "cell_type": "markdown",
   "metadata": {},
   "source": [
    "__Test:__"
   ]
  },
  {
   "cell_type": "code",
   "execution_count": null,
   "metadata": {},
   "outputs": [],
   "source": [
    "songs_user.show(3)"
   ]
  },
  {
   "cell_type": "code",
   "execution_count": null,
   "metadata": {},
   "outputs": [],
   "source": [
    "# cross-check with separately doing a single aggreagation -> fine\n",
    "songs_user_test = songs_in_day.groupby(['userId']).agg(avg(col('count'))).orderBy('userId')\n",
    "#songs_user = songs_user.select(col('userId'), col('count(day)').alias('days_listened'))\n",
    "songs_user_test.first()"
   ]
  },
  {
   "cell_type": "code",
   "execution_count": null,
   "metadata": {},
   "outputs": [],
   "source": [
    "# cross-check for a heavy user identified above listening to a lot of songs\n",
    "songs_user.where(songs_user.userId == 39).show() # listens on all days"
   ]
  },
  {
   "cell_type": "markdown",
   "metadata": {},
   "source": [
    "### Account age\n",
    "How long is the customer using the service already? Idea: Who did not churn for a while is less likely to churn in the next time period."
   ]
  },
  {
   "cell_type": "code",
   "execution_count": null,
   "metadata": {},
   "outputs": [],
   "source": [
    "# registration date is given in all data rows for a customer\n",
    "print('all users have just 1 registration date:', \n",
    "      df.select('userId', 'registration').dropDuplicates().count() == df.select('userId').dropDuplicates().count())"
   ]
  },
  {
   "cell_type": "code",
   "execution_count": null,
   "metadata": {},
   "outputs": [],
   "source": [
    "# taking one value from 'registration' column to figure out how to cast to date\n",
    "spark.sql(\"select to_date(to_timestamp(1538352117000/1000))\").show()"
   ]
  },
  {
   "cell_type": "markdown",
   "metadata": {},
   "source": [
    "#### Define\n",
    "The account age is the time span the customer is using the service. It's the time between the registration and the dataset date, e.g. the newest date included in the dataset. For customers who churned it ends with the churn event.\n",
    "\n",
    "1. Extract the date (column name: `date`) from the timestamp `df.ts` and the registration date from `df.registration` (column name: `date_reg`). Use the maximum of the timestamp date as `dataset_date`. \n",
    "2. Sort by user and timestamp. Get the last row which contains the churn date in the `date` column. For non-churn users the columns `dataset_date` and `date_reg` are relevant which are the same in all rows for a user.\n",
    "3. Get the date difference in days between the churn date and `date_reg` for churn users, and between `dataset_date` and `date_reg` respectively.\n",
    "\n",
    "#### Code"
   ]
  },
  {
   "cell_type": "code",
   "execution_count": 15,
   "metadata": {},
   "outputs": [
    {
     "name": "stdout",
     "output_type": "stream",
     "text": [
      "+--------------+---------+---------+------+-------------+--------+---------+-----+---------------+------+--------+-------------+---------+---------+------+-------------+--------------------+------+-----+----------+---+----------+----------+------------+\n",
      "|        artist|     auth|firstName|gender|itemInSession|lastName|   length|level|       location|method|    page| registration|sessionId|     song|status|           ts|           userAgent|userId|Churn|Churn_user|day|      date|  date_reg|dataset_date|\n",
      "+--------------+---------+---------+------+-------------+--------+---------+-----+---------------+------+--------+-------------+---------+---------+------+-------------+--------------------+------+-----+----------+---+----------+----------+------------+\n",
      "|Martha Tilston|Logged In|    Colin|     M|           50| Freeman|277.89016| paid|Bakersfield, CA|   PUT|NextSong|1538173362000|       29|Rockpools|   200|1538352117000|Mozilla/5.0 (Wind...|    30|    0|         0|  1|2018-10-01|2018-09-28|  2018-12-03|\n",
      "+--------------+---------+---------+------+-------------+--------+---------+-----+---------------+------+--------+-------------+---------+---------+------+-------------+--------------------+------+-----+----------+---+----------+----------+------------+\n",
      "only showing top 1 row\n",
      "\n"
     ]
    }
   ],
   "source": [
    "## 1.\n",
    "# timestamp as date: \n",
    "df = df.withColumn('date', F.to_date(to_timestamp(df.ts/1000)))\n",
    "# registration date:\n",
    "df = df.withColumn('date_reg', F.to_date(F.to_timestamp(df.registration/1000)))\n",
    "# dataset date: use the overall maximum timestamp\n",
    "df = df.withColumn('dataset_date', lit(df.agg(F.max(col('date'))).collect().pop()[0])) # 03.12.2018\n",
    "\n",
    "## 2. get last row:\n",
    "# inspired by https://stackoverflow.com/questions/40889564/pyspark-groupby-and-max-value-selection#40892037\n",
    "w = Window().partitionBy('userId').orderBy(F.desc('ts'))\n",
    "df_age = df.withColumn('rank', F.dense_rank().over(w))\n",
    "df_age = df_age.where(F.col('rank')==1)\n",
    "\n",
    "## 3. date difference\n",
    "df_age = df_age.withColumn('account_age', \n",
    "    when(df_age.userId.isin(users_churn), datediff(df_age.date, df_age.date_reg))\n",
    "    .otherwise(datediff(df_age.dataset_date, df_age.date_reg)))\n",
    "df_age = df_age.select('userId', 'account_age')"
   ]
  },
  {
   "cell_type": "markdown",
   "metadata": {},
   "source": [
    "#### Test"
   ]
  },
  {
   "cell_type": "code",
   "execution_count": 74,
   "metadata": {},
   "outputs": [
    {
     "data": {
      "text/html": [
       "<div>\n",
       "<style scoped>\n",
       "    .dataframe tbody tr th:only-of-type {\n",
       "        vertical-align: middle;\n",
       "    }\n",
       "\n",
       "    .dataframe tbody tr th {\n",
       "        vertical-align: top;\n",
       "    }\n",
       "\n",
       "    .dataframe thead th {\n",
       "        text-align: right;\n",
       "    }\n",
       "</style>\n",
       "<table border=\"1\" class=\"dataframe\">\n",
       "  <thead>\n",
       "    <tr style=\"text-align: right;\">\n",
       "      <th></th>\n",
       "      <th>userId</th>\n",
       "      <th>date</th>\n",
       "      <th>date_reg</th>\n",
       "      <th>dataset_date</th>\n",
       "    </tr>\n",
       "  </thead>\n",
       "  <tbody>\n",
       "    <tr>\n",
       "      <th>794</th>\n",
       "      <td>10</td>\n",
       "      <td>2018-11-19</td>\n",
       "      <td>2018-09-28</td>\n",
       "      <td>2018-12-03</td>\n",
       "    </tr>\n",
       "    <tr>\n",
       "      <th>4008</th>\n",
       "      <td>100</td>\n",
       "      <td>2018-11-30</td>\n",
       "      <td>2018-09-26</td>\n",
       "      <td>2018-12-03</td>\n",
       "    </tr>\n",
       "    <tr>\n",
       "      <th>4195</th>\n",
       "      <td>100001</td>\n",
       "      <td>2018-10-02</td>\n",
       "      <td>2018-08-18</td>\n",
       "      <td>2018-12-03</td>\n",
       "    </tr>\n",
       "    <tr>\n",
       "      <th>4413</th>\n",
       "      <td>100002</td>\n",
       "      <td>2018-12-03</td>\n",
       "      <td>2018-06-25</td>\n",
       "      <td>2018-12-03</td>\n",
       "    </tr>\n",
       "    <tr>\n",
       "      <th>4491</th>\n",
       "      <td>100003</td>\n",
       "      <td>2018-10-11</td>\n",
       "      <td>2018-09-18</td>\n",
       "      <td>2018-12-03</td>\n",
       "    </tr>\n",
       "  </tbody>\n",
       "</table>\n",
       "</div>"
      ],
      "text/plain": [
       "      userId        date    date_reg dataset_date\n",
       "794       10  2018-11-19  2018-09-28   2018-12-03\n",
       "4008     100  2018-11-30  2018-09-26   2018-12-03\n",
       "4195  100001  2018-10-02  2018-08-18   2018-12-03\n",
       "4413  100002  2018-12-03  2018-06-25   2018-12-03\n",
       "4491  100003  2018-10-11  2018-09-18   2018-12-03"
      ]
     },
     "execution_count": 74,
     "metadata": {},
     "output_type": "execute_result"
    }
   ],
   "source": [
    "# selecting the last row per user with Pandas \n",
    "df.select('userId', 'date', 'date_reg', 'dataset_date').orderBy('userId').toPandas().groupby('userId').tail(1).head(3)"
   ]
  },
  {
   "cell_type": "code",
   "execution_count": 79,
   "metadata": {},
   "outputs": [
    {
     "name": "stdout",
     "output_type": "stream",
     "text": [
      "+------+-----------+\n",
      "|userId|account_age|\n",
      "+------+-----------+\n",
      "|    10|         66|\n",
      "|   100|         68|\n",
      "|100001|         45|\n",
      "+------+-----------+\n",
      "only showing top 3 rows\n",
      "\n"
     ]
    }
   ],
   "source": [
    "df_age.orderBy('userId').show(3)"
   ]
  },
  {
   "cell_type": "code",
   "execution_count": 60,
   "metadata": {},
   "outputs": [
    {
     "data": {
      "text/html": [
       "<div>\n",
       "<style scoped>\n",
       "    .dataframe tbody tr th:only-of-type {\n",
       "        vertical-align: middle;\n",
       "    }\n",
       "\n",
       "    .dataframe tbody tr th {\n",
       "        vertical-align: top;\n",
       "    }\n",
       "\n",
       "    .dataframe thead th {\n",
       "        text-align: right;\n",
       "    }\n",
       "</style>\n",
       "<table border=\"1\" class=\"dataframe\">\n",
       "  <thead>\n",
       "    <tr style=\"text-align: right;\">\n",
       "      <th></th>\n",
       "      <th>userId</th>\n",
       "      <th>account_age</th>\n",
       "    </tr>\n",
       "  </thead>\n",
       "  <tbody>\n",
       "    <tr>\n",
       "      <th>0</th>\n",
       "      <td>67</td>\n",
       "      <td>152</td>\n",
       "    </tr>\n",
       "  </tbody>\n",
       "</table>\n",
       "</div>"
      ],
      "text/plain": [
       "  userId  account_age\n",
       "0     67          152"
      ]
     },
     "execution_count": 60,
     "metadata": {},
     "output_type": "execute_result"
    }
   ],
   "source": [
    "# check ok:\n",
    "## non-churn user with 152 days\n",
    "#df_age.where(col('userId')==67).toPandas()\n",
    "## OK checking in raw data: reg_date 2018-07-04 to dataset_date 2018-12-03\n",
    "## 152 days based on https://www.timeanddate.com/date/durationresult.html?d1=4&m1=7&y1=2018&d2=03&m2=12&y2=2018\n",
    "#df.where(col('userId')==67).toPandas().tail(1)\n",
    "\n",
    "# check ok:\n",
    "## churn user with 20 days\n",
    "#df_age.where(col('userId')==51).toPandas()\n",
    "## OK checking in raw data: reg_date 2018-09-27 to cancel_date 2018-10-17\n",
    "#df.where(col('userId')==51).toPandas().tail(1)"
   ]
  },
  {
   "cell_type": "markdown",
   "metadata": {},
   "source": [
    "### combine data: label churn and static user features"
   ]
  },
  {
   "cell_type": "markdown",
   "metadata": {},
   "source": [
    "#### Define:\n",
    "The logfile stored in `df` has multiple rows per UserId. For any user there are static columns, i.e. which always contain the same information. Examples are `gender` and whether the user churned, i.e. `Churn_user`.\n",
    "\n",
    "Extract static features from `df`. Join it with the metrics calculated above, i.e. `songs_user`.\n",
    "\n",
    "#### Code"
   ]
  },
  {
   "cell_type": "code",
   "execution_count": 88,
   "metadata": {},
   "outputs": [],
   "source": [
    "# first row for each user\n",
    "# inspired by https://sparkbyexamples.com/spark/spark-dataframe-how-to-select-the-first-row-of-each-group/\n",
    "df_by_user = df.withColumn('row', row_number().over(Window.partitionBy('userId').orderBy('userId'))).where(col('row') == 1)\n",
    "\n",
    "# reduce columns\n",
    "df_by_user = df_by_user.select(['userId', 'Churn_user', 'gender'])\n",
    "\n",
    "# join with songs_user\n",
    "df_model = df_by_user.join(songs_user, on=['userId']).join(df_age, on=['userId']).orderBy('userId')"
   ]
  },
  {
   "cell_type": "code",
   "execution_count": 82,
   "metadata": {},
   "outputs": [
    {
     "name": "stdout",
     "output_type": "stream",
     "text": [
      "+------+----------+------+\n",
      "|userId|Churn_user|gender|\n",
      "+------+----------+------+\n",
      "|100010|         0|     F|\n",
      "|200002|         0|     M|\n",
      "|   125|         1|     M|\n",
      "+------+----------+------+\n",
      "only showing top 3 rows\n",
      "\n"
     ]
    }
   ],
   "source": [
    "df_by_user.show(3)"
   ]
  },
  {
   "cell_type": "code",
   "execution_count": 83,
   "metadata": {},
   "outputs": [
    {
     "name": "stdout",
     "output_type": "stream",
     "text": [
      "+------+-------------+-----------------+\n",
      "|userId|days_listened|    songs_per_day|\n",
      "+------+-------------+-----------------+\n",
      "|    10|            7|96.14285714285714|\n",
      "|   100|           25|           107.28|\n",
      "|100001|            2|             66.5|\n",
      "+------+-------------+-----------------+\n",
      "only showing top 3 rows\n",
      "\n"
     ]
    }
   ],
   "source": [
    "songs_user.show(3)"
   ]
  },
  {
   "cell_type": "markdown",
   "metadata": {},
   "source": [
    "#### Test"
   ]
  },
  {
   "cell_type": "code",
   "execution_count": 89,
   "metadata": {},
   "outputs": [
    {
     "name": "stdout",
     "output_type": "stream",
     "text": [
      "1 row per unique userId: True\n"
     ]
    }
   ],
   "source": [
    "print('1 row per unique userId:', \n",
    "      df_by_user.count() == df.select('userId').drop_duplicates().count())"
   ]
  },
  {
   "cell_type": "code",
   "execution_count": 90,
   "metadata": {},
   "outputs": [
    {
     "name": "stdout",
     "output_type": "stream",
     "text": [
      "+------+----------+------+-------------+-----------------+-----------+\n",
      "|userId|Churn_user|gender|days_listened|    songs_per_day|account_age|\n",
      "+------+----------+------+-------------+-----------------+-----------+\n",
      "|    10|         0|     M|            7|96.14285714285714|         66|\n",
      "|   100|         0|     M|           25|           107.28|         68|\n",
      "|100001|         1|     F|            2|             66.5|         45|\n",
      "+------+----------+------+-------------+-----------------+-----------+\n",
      "only showing top 3 rows\n",
      "\n"
     ]
    }
   ],
   "source": [
    "df_model_pd = df_model.toPandas()\n",
    "df_model.show(3)"
   ]
  },
  {
   "cell_type": "code",
   "execution_count": null,
   "metadata": {},
   "outputs": [],
   "source": [
    "plt.figure(figsize = (6, 3))\n",
    "sb.countplot( x='Churn_user', hue='gender', data=df_model_pd)\n",
    "plt.title('User Count by Churn and Gender', fontsize=16)\n",
    "plt.xlabel('Churn (1=yes)', fontsize=12)\n",
    "plt.ylabel('Count', fontsize=12);"
   ]
  },
  {
   "cell_type": "code",
   "execution_count": null,
   "metadata": {},
   "outputs": [],
   "source": [
    "print('model shape:', df_model_pd.shape)\n",
    "df_model_pd.to_csv('sparkify.csv', index=False)"
   ]
  },
  {
   "cell_type": "code",
   "execution_count": 91,
   "metadata": {},
   "outputs": [
    {
     "data": {
      "text/html": [
       "<div>\n",
       "<style scoped>\n",
       "    .dataframe tbody tr th:only-of-type {\n",
       "        vertical-align: middle;\n",
       "    }\n",
       "\n",
       "    .dataframe tbody tr th {\n",
       "        vertical-align: top;\n",
       "    }\n",
       "\n",
       "    .dataframe thead th {\n",
       "        text-align: right;\n",
       "    }\n",
       "</style>\n",
       "<table border=\"1\" class=\"dataframe\">\n",
       "  <thead>\n",
       "    <tr style=\"text-align: right;\">\n",
       "      <th></th>\n",
       "      <th>userId</th>\n",
       "      <th>Churn_user</th>\n",
       "      <th>gender</th>\n",
       "      <th>days_listened</th>\n",
       "      <th>songs_per_day</th>\n",
       "      <th>account_age</th>\n",
       "    </tr>\n",
       "  </thead>\n",
       "  <tbody>\n",
       "    <tr>\n",
       "      <th>0</th>\n",
       "      <td>10</td>\n",
       "      <td>0</td>\n",
       "      <td>M</td>\n",
       "      <td>7</td>\n",
       "      <td>96.142857</td>\n",
       "      <td>66</td>\n",
       "    </tr>\n",
       "    <tr>\n",
       "      <th>1</th>\n",
       "      <td>100</td>\n",
       "      <td>0</td>\n",
       "      <td>M</td>\n",
       "      <td>25</td>\n",
       "      <td>107.280000</td>\n",
       "      <td>68</td>\n",
       "    </tr>\n",
       "    <tr>\n",
       "      <th>2</th>\n",
       "      <td>100001</td>\n",
       "      <td>1</td>\n",
       "      <td>F</td>\n",
       "      <td>2</td>\n",
       "      <td>66.500000</td>\n",
       "      <td>45</td>\n",
       "    </tr>\n",
       "  </tbody>\n",
       "</table>\n",
       "</div>"
      ],
      "text/plain": [
       "   userId  Churn_user gender  days_listened  songs_per_day  account_age\n",
       "0      10           0      M              7      96.142857           66\n",
       "1     100           0      M             25     107.280000           68\n",
       "2  100001           1      F              2      66.500000           45"
      ]
     },
     "execution_count": 91,
     "metadata": {},
     "output_type": "execute_result"
    }
   ],
   "source": [
    "df_model_pd.head(3)"
   ]
  },
  {
   "cell_type": "code",
   "execution_count": 103,
   "metadata": {},
   "outputs": [
    {
     "data": {
      "image/png": "[encoded data removed]",
      "text/plain": [
       "<matplotlib.figure.Figure at 0x7fd875c4c898>"
      ]
     },
     "metadata": {
      "needs_background": "light"
     },
     "output_type": "display_data"
    }
   ],
   "source": [
    "plt.figure(figsize = (6, 4))\n",
    "sb.boxplot(data=df_model_pd, y='account_age', x='Churn_user')\n",
    "plt.title('Account age by churn (boxplot)', fontsize=16)\n",
    "plt.xlabel('Churn (1=yes)', fontsize=12)\n",
    "plt.ylabel('account age (Days)', fontsize=12);"
   ]
  },
  {
   "cell_type": "code",
   "execution_count": null,
   "metadata": {},
   "outputs": [],
   "source": [
    "#import pandas as pd\n",
    "#pd.read_csv('sparkify.csv')"
   ]
  },
  {
   "cell_type": "markdown",
   "metadata": {},
   "source": [
    "#### who Churn listens on less days and less songs per day\n",
    "holds on average and looking at the distribution; the distribution for engangement is more clearly unimodal than for songs listened per day"
   ]
  },
  {
   "cell_type": "code",
   "execution_count": null,
   "metadata": {},
   "outputs": [],
   "source": [
    "df_model.groupby('Churn_user').agg(avg(col('days_listened'))).orderBy('Churn_user').show()"
   ]
  },
  {
   "cell_type": "code",
   "execution_count": null,
   "metadata": {},
   "outputs": [],
   "source": [
    "df_model_pd = df_model.groupby('Churn_user').agg(avg(col('days_listened'))).orderBy('Churn_user').toPandas()\n",
    "sb.barplot(x='Churn_user', y='avg(days_listened)', data=df_model_pd)\n",
    "plt.title('Days Listened by Churn')\n",
    "plt.xlabel('Churn (1=yes)')\n",
    "plt.ylabel('Days Listened');"
   ]
  },
  {
   "cell_type": "code",
   "execution_count": null,
   "metadata": {},
   "outputs": [],
   "source": [
    "#fig = plt.figure(figsize = (7, 4))\n",
    "#ax = fig.add_subplot(111)\n",
    "#(df.retweet_count[df.p1_dog == True]).plot(kind = 'hist', bins = 20, alpha = .4, label = 'Dog identified', xlim = (0,15000))\n",
    "#df.retweet_count[df.p1_dog == False].plot(kind = 'hist', alpha = .4, label = 'Dog not identified')\n",
    "\n",
    "#plt.title('Retweets by Algorithm (ML) Identification', fontsize = 20)\n",
    "#ax.set_xlabel('Retweets', fontsize = 16)\n",
    "#ax.set_ylabel('Number of Tweets', fontsize = 16)\n",
    "#ax.legend();\n"
   ]
  },
  {
   "cell_type": "code",
   "execution_count": null,
   "metadata": {},
   "outputs": [],
   "source": [
    "df_model_pd = df_model.groupby('Churn_user').agg(avg(col('songs_per_day'))).orderBy('Churn_user').toPandas()\n",
    "sb.barplot(x='Churn_user', y='avg(songs_per_day)', data=df_model_pd)\n",
    "plt.title('Songs Listened per Day by Churn')\n",
    "plt.xlabel('Churn (1=yes)')\n",
    "plt.ylabel('Songs per Day');"
   ]
  },
  {
   "cell_type": "code",
   "execution_count": null,
   "metadata": {},
   "outputs": [],
   "source": [
    "# plot distribution of songs per user & day listened\n",
    "df_pd_0 = df_model.filter(df_model.Churn_user == 0).select('songs_per_day').toPandas()\n",
    "df_pd_1 = df_model.filter(df_model.Churn_user == 1).select('songs_per_day').toPandas()\n",
    "\n",
    "sb.distplot(df_pd_0.songs_per_day, hist=False, label='no churn')\n",
    "sb.distplot(df_pd_1.songs_per_day, hist=False, label='churn')\n",
    "plt.legend()\n",
    "plt.title('Songs listened per day (frequency)');"
   ]
  },
  {
   "cell_type": "code",
   "execution_count": null,
   "metadata": {},
   "outputs": [],
   "source": [
    "df_pd_0 = df_model.filter(df_model.Churn_user == 0).select('days_listened').toPandas()\n",
    "df_pd_1 = df_model.filter(df_model.Churn_user == 1).select('days_listened').toPandas()\n",
    "\n",
    "sb.distplot(df_pd_0.days_listened, hist=False, label='no churn')\n",
    "sb.distplot(df_pd_1.days_listened, hist=False, label='churn')\n",
    "plt.legend()\n",
    "plt.title('Engagement: number of days listening to songs (frequency)');"
   ]
  },
  {
   "cell_type": "markdown",
   "metadata": {},
   "source": [
    "Not looking at higher frequencies than days."
   ]
  },
  {
   "cell_type": "code",
   "execution_count": null,
   "metadata": {},
   "outputs": [],
   "source": [
    "# delete:\n",
    "# by hour:\n",
    "\n",
    "## udf = user-defined function\n",
    "#get_hour = udf(lambda x: datetime.datetime.fromtimestamp(x / 1000.0).hour) \n",
    "#\n",
    "## create column\n",
    "#df = df.withColumn('hour', get_hour(user_log.ts)) # add 'hour' to dataframe\n",
    "## df.head() \n",
    "#\n",
    "## count next song page request by hour\n",
    "#songs_in_hour = df.filter(df.page == 'NextSong').groupby(df.hour).count().orderBy(df.hour.cast('float'))\n",
    "#songs_in_hour.show()\n",
    "#\n",
    "## visualize: transform to pandas\n",
    "#songs_in_hour_pd = songs_in_hour.toPandas()\n",
    "#plt.scatter(songs_in_hour_pd['hour'], songs_in_hour_pd['count'])\n",
    "#plt.xlim(-1, 24);"
   ]
  },
  {
   "cell_type": "code",
   "execution_count": null,
   "metadata": {},
   "outputs": [],
   "source": [
    "### create flag downgrade\n",
    "#flag_downgrade_event = udf(lambda x: 1 if x=='Submit Downgrade' else 0, IntegerType())\n",
    "#\n",
    "### create downgraded column\n",
    "#user_log_valid = user_log_valid.withColumn('downgraded', flag_downgrade_event('page'))\n",
    "#user_log_valid.head()\n",
    "#\n",
    "### create flag free or paid phase\n",
    "#windowval = Window.partitionBy('userId').orderBy(desc('ts')).rangeBetween(Window.unboundedPreceding, 0) # thinkof partition as groupBy; look at all preceeding rows but no following rows\n",
    "#user_log_valid = user_log_valid.withColumn('phase', F.sum('downgraded').over(windowval))\n",
    "#user_log_valid.select(['userId', 'firstName', 'ts', 'page', 'level', 'phase']).where(user_log.userId == '1138').sort('ts').collect()"
   ]
  },
  {
   "cell_type": "markdown",
   "metadata": {},
   "source": [
    "# Modeling\n",
    "Split the full dataset into train, test, and validation sets. Test out several of the machine learning methods you learned. Evaluate the accuracy of the various models, tuning parameters as necessary. Determine your winning model based on test accuracy and report results on the validation set. Since the churned users are a fairly small subset, I suggest using F1 score as the metric to optimize.\n",
    "\n",
    "Deciding on the best approach: choose approach 2\n",
    "1. two-step optimization: a) obtain performance metrics for different estimators, choose the best, b) search the optimal parameter for the model from (a) with a grid or randomized search crossvalidation\n",
    "2. one-step optimization: try different estimators based on parameter optimization for all of the models\n",
    "\n",
    "$\\rightarrow Approach (1) might not identify the best model as a higher performance boost from (1b) might yield the best model is one which was weaker at first."
   ]
  },
  {
   "cell_type": "code",
   "execution_count": null,
   "metadata": {},
   "outputs": [],
   "source": [
    "# rename target column\n",
    "# using standards 'label' and 'features' as describedin docs: https://spark.apache.org/docs/latest/ml-classification-regression.html#random-forests\n",
    "df_model = df_model.withColumnRenamed('Churn_user', 'label')\n",
    "\n",
    "# train-test split\n",
    "train, non_train = df_model.randomSplit([.6, .4], seed=42)\n",
    "test, validate = non_train.randomSplit([.5, .5], seed=42)\n",
    "print('Precise split of all rows:', df_model.count() == train.count() + test.count() + validate.count())\n",
    "\n",
    "# number of records\n",
    "print('rows -- total: {}, train: {}, test: {}, and validation: {}'.format(\n",
    "    df_model.count(), train.count(), test.count(), validate.count()))"
   ]
  },
  {
   "cell_type": "markdown",
   "metadata": {},
   "source": [
    "## baseline approach: multiple estimators, a single parameter choice"
   ]
  },
  {
   "cell_type": "code",
   "execution_count": null,
   "metadata": {},
   "outputs": [],
   "source": [
    "# df_model.show(1)\n",
    "# train.show(3)"
   ]
  },
  {
   "cell_type": "code",
   "execution_count": null,
   "metadata": {},
   "outputs": [],
   "source": [
    "# build pipeline: use pipeline to prevent leaking knowledge from validation/test set\n",
    "indexer = StringIndexer(inputCol='gender', outputCol='d_female')\n",
    "assembler = VectorAssembler(inputCols=['days_listened', 'songs_per_day', 'account_age', 'd_female'], outputCol='features_unscaled')\n",
    "scaler = StandardScaler(inputCol='features_unscaled', outputCol='features', withMean=True)\n",
    "\n",
    "lr = LogisticRegression(maxIter=10, regParam=0.0, elasticNetParam=0)\n",
    "rf = RandomForestClassifier(seed=42)\n",
    "estimator_list = [lr, rf]\n",
    "\n",
    "counter = 1\n",
    "for estimator in estimator_list: # loop and how to obtain the algorithm name inspired by https://github.com/stephanieirvine/Udacity-Data-Scientist-Nanodegree/blob/main/Project%204/Sparkify.ipynb\n",
    "    print('{}/{}: {}'.format(counter, len(estimator_list), estimator.__class__.__name__))\n",
    "    counter += 1\n",
    "    pipeline = Pipeline(stages=[indexer, assembler, scaler, estimator])\n",
    "    start = time.time()\n",
    "    model = pipeline.fit(train)\n",
    "    result = model.transform(test)\n",
    "    evaluator = MulticlassClassificationEvaluator()\n",
    "    print('... ran {}min and yields:'.format(round((time.time() - start) / 60, 1)))\n",
    "    print('f1: {}, and accuracy: {}'.format(\n",
    "        round(evaluator.evaluate(result, {evaluator.metricName: 'f1'}), 2),\n",
    "        round(evaluator.evaluate(result, {evaluator.metricName: 'accuracy'}), 2)))"
   ]
  },
  {
   "cell_type": "markdown",
   "metadata": {},
   "source": [
    "## enhanced approach: multiple estimators, gridsearch over parameters"
   ]
  },
  {
   "cell_type": "code",
   "execution_count": null,
   "metadata": {},
   "outputs": [],
   "source": [
    "paramGrid_LogisticRegression = ParamGridBuilder() \\\n",
    "    .addGrid(lr.regParam, [0.0, 0.1]) \\\n",
    "    .build()\n",
    "\n",
    "# parameter options inspired by https://towardsdatascience.com/100x-faster-randomized-hyperparameter-searching-framework-with-pyspark-4de19e44f5e6\n",
    "paramGrid_RandomForestClassifier = ParamGridBuilder() \\\n",
    "    .addGrid(rf.numTrees, [50, 100]) \\\n",
    "    .addGrid(rf.maxDepth, [2,10]) \\\n",
    "    .build()\n",
    "    # rf.criterion,['gini','entropy']\n",
    "        \n",
    "def create_cv(paramGrid, pipeline):\n",
    "    return CrossValidator(estimator=pipeline,\n",
    "                          estimatorParamMaps=paramGrid,\n",
    "                          evaluator=MulticlassClassificationEvaluator(metricName='f1'),\n",
    "                          numFolds=3) # parallelism=2\n",
    "# f1 metric only available using the Spark MulticlassClassificationEvaluator, so with the binary version https://spark.apache.org/docs/latest/api/python/reference/api/pyspark.ml.evaluation.BinaryClassificationEvaluator.html?highlight=binaryclassificationevaluator#pyspark.ml.evaluation.BinaryClassificationEvaluator\n",
    "\n",
    "def evaluate_model(evaluator, result):\n",
    "    ''' Evaluates the cross validation results.\n",
    "    \n",
    "    Input:\n",
    "    evaluator -- instantiated evaluator object, e.g. MulticlassClassificationEvaluator()\n",
    "    result -- cross-validation fit-transformed data\n",
    "    \n",
    "    Output:\n",
    "    prints performance metrics f1, accuracy, and precision\n",
    "    '''\n",
    "    \n",
    "    print('f1: {}'.format(round(evaluator.evaluate(result, {evaluator.metricName: 'f1'}), 2)))\n",
    "    # accuracy and precision\n",
    "    correct_prediction_count, rows_all = result.filter(result.label == result.prediction).count(), result.count()\n",
    "    precision_count, rows_precision = result.filter((result.label == 1) & (result.prediction == 1)).count(), result.filter(result.label == 1).count()\n",
    "    print('accuracy: {:.0%} ({}/{}), and precision: {:.0%} ({}/{})'.format(\n",
    "        correct_prediction_count / rows_all, correct_prediction_count, rows_all,\n",
    "        precision_count / rows_precision, precision_count, rows_precision))\n",
    "    print('... ran {} min.'.format(round((time.time() - start) / 60, 1)))\n",
    "\n",
    "# https://towardsdatascience.com/100x-faster-randomized-hyperparameter-searching-framework-with-pyspark-4de19e44f5e6\n",
    "#num_trees =  random.choice(list(range(50,500)))\n",
    "#depth = random.choice(list(range(2,10)))\n",
    "#criterion = random.choice(['gini','entropy'])\n",
    "# relevant read?: https://towardsdatascience.com/hyperparameters-part-ii-random-search-on-spark-77667e68b606"
   ]
  },
  {
   "cell_type": "code",
   "execution_count": null,
   "metadata": {},
   "outputs": [],
   "source": [
    "# reduced search...\n",
    "#paramGrid_LogisticRegression = ParamGridBuilder() \\\n",
    "#    .addGrid(lr.regParam, [0.0]) \\\n",
    "#    .build()\n",
    "\n",
    "# parameter options inspired by https://towardsdatascience.com/100x-faster-randomized-hyperparameter-searching-framework-with-pyspark-4de19e44f5e6\n",
    "#paramGrid_RandomForestClassifier = ParamGridBuilder() \\\n",
    "#    .addGrid(rf.numTrees, [2]) \\\n",
    "#    .build()\n",
    "#    # rf.criterion,['gini','entropy']"
   ]
  },
  {
   "cell_type": "code",
   "execution_count": null,
   "metadata": {},
   "outputs": [],
   "source": [
    "#for estimator in estimator_list:\n",
    "#    print(eval('paramGrid_' + estimator.__class__.__name__))"
   ]
  },
  {
   "cell_type": "code",
   "execution_count": null,
   "metadata": {},
   "outputs": [],
   "source": [
    "# combine with gridsearch\n",
    "counter = 1\n",
    "best_f1 = 0\n",
    "\n",
    "for estimator in estimator_list: # see credentials above\n",
    "    print('{}/{}: {}'.format(counter, len(estimator_list), estimator.__class__.__name__))\n",
    "    counter += 1\n",
    "    pipeline = Pipeline(stages=[indexer, assembler, scaler, estimator])\n",
    "    \n",
    "    # create the CrossValidator object with the specific parameter grid and pipeline: \n",
    "    cv = create_cv(eval('paramGrid_' + estimator.__class__.__name__), pipeline)\n",
    "    \n",
    "    start = time.time()\n",
    "    model = cv.fit(train)\n",
    "    result = model.transform(test)\n",
    "    evaluator = MulticlassClassificationEvaluator()\n",
    "    f1 = round(evaluator.evaluate(result, {evaluator.metricName: 'f1'}), 2)\n",
    "    if f1 > best_f1:\n",
    "        best_f1 = round(evaluator.evaluate(result, {evaluator.metricName: 'f1'}), 2)\n",
    "        model_best = model.bestModel\n",
    "    evaluate_model(evaluator, result)"
   ]
  },
  {
   "cell_type": "code",
   "execution_count": null,
   "metadata": {},
   "outputs": [],
   "source": [
    "print(best_f1)\n",
    "model_best"
   ]
  },
  {
   "cell_type": "code",
   "execution_count": null,
   "metadata": {},
   "outputs": [],
   "source": [
    "# save model to files: can use it without running the training job first\n",
    "# https://stackoverflow.com/questions/29255145/what-is-the-right-way-to-save-load-models-in-spark-pyspark?noredirect=1&lq=1\n",
    "model_best.write().overwrite().save('pyspark_trained_model')"
   ]
  },
  {
   "cell_type": "code",
   "execution_count": null,
   "metadata": {},
   "outputs": [],
   "source": [
    "# https://stackoverflow.com/questions/52625639/unable-to-load-logistic-regression-model-in-spark-2-x\n",
    "model_trained = PipelineModel.load('pyspark_trained_model')\n",
    "\n",
    "# inspired by https://spark.apache.org/docs/latest/ml-pipeline.html#ml-persistence-saving-and-loading-pipelines\n",
    "prediction = model_trained.transform(validate.select(validate.drop('label').columns))\n",
    "selected = prediction.select(prediction.drop('features_unscaled', 'features', 'rawPrediction').columns)\n",
    "#selected.collect()\n",
    "#for row in selected.collect():\n",
    "#    userId, gender, days_listened, songs_per_day, d_female, prob, prediction = row  # type: ignore\n",
    "#    print(userId, prob[1], prediction)"
   ]
  },
  {
   "cell_type": "markdown",
   "metadata": {},
   "source": [
    "Baseline accuracy: always predict the majority class no churn: "
   ]
  },
  {
   "cell_type": "code",
   "execution_count": null,
   "metadata": {},
   "outputs": [],
   "source": [
    "round(prediction.filter(col('label') == 0).count() / prediction.count(), 2)"
   ]
  },
  {
   "cell_type": "markdown",
   "metadata": {},
   "source": [
    "Bad results with the small dataset do not mean no hope. More data is expected to be more helpful for better results than improvements in terms of parameter choice."
   ]
  },
  {
   "cell_type": "code",
   "execution_count": null,
   "metadata": {},
   "outputs": [],
   "source": [
    "# validate results\n",
    "prediction = model_trained.transform(validate)\n",
    "evaluate_model(evaluator, result=prediction)\n"
   ]
  },
  {
   "cell_type": "code",
   "execution_count": null,
   "metadata": {},
   "outputs": [],
   "source": [
    "df_model.show(1)"
   ]
  },
  {
   "cell_type": "markdown",
   "metadata": {},
   "source": [
    "### Predicting on new data\n",
    "In a real-world application we should leave out the newest data, train a model and test it with the newest data. This can be extended rolling backwards. In this analysis we include all history. We pick up a signal which already led to churn. However, when churn will happen in reality but is not observed yet that training observation is labeled as 'no churn'. This weakens the model. We accept this flaw as out of scope for this project in terms of effort yet easily handled with the concepts presented.\n",
    "\n",
    "Here we apply the best model found to the full dataset. This allows to provide a churn probability for all customers in the Sparkify Callcenter Dashboard web app."
   ]
  },
  {
   "cell_type": "code",
   "execution_count": null,
   "metadata": {},
   "outputs": [],
   "source": [
    "prediction_all = model_trained.transform(df_model)\n",
    "prediction_all = prediction_all.select(prediction.drop('features_unscaled', 'features', 'rawPrediction').columns)\n",
    "evaluate_model(evaluator, result=prediction_all)"
   ]
  },
  {
   "cell_type": "code",
   "execution_count": null,
   "metadata": {},
   "outputs": [],
   "source": [
    "sparkify = prediction_all.toPandas()\n",
    "sparkify['probability'] = sparkify.probability.apply(lambda x: x[1])\n",
    "sparkify['userId'] = sparkify.userId.apply(int)\n",
    "#sparkify.to_csv('sparkify.csv', index=False)\n",
    "\n",
    "from sqlalchemy import create_engine\n",
    "\n",
    "engine = create_engine('sqlite:///sparkify.db')\n",
    "sparkify.to_sql('user_table', engine, index=False, if_exists='replace')\n",
    "\n",
    "print('Check database content... table exists and has entries:', \n",
    "      pd.read_sql('SELECT * FROM user_table', \n",
    "                  con=engine).shape[0] > 0)"
   ]
  },
  {
   "cell_type": "code",
   "execution_count": null,
   "metadata": {},
   "outputs": [],
   "source": [
    "sparkify.head(3)"
   ]
  },
  {
   "cell_type": "code",
   "execution_count": null,
   "metadata": {},
   "outputs": [],
   "source": [
    "# given low amount of features: hardly able to predict churn\n",
    "print(np.corrcoef(sparkify.label, sparkify.probability)[0,1])\n",
    "plt.scatter(x=sparkify.label, y=sparkify.probability);"
   ]
  },
  {
   "cell_type": "code",
   "execution_count": null,
   "metadata": {},
   "outputs": [],
   "source": [
    "#for row in selected.collect():\n",
    "#    userId, gender, days_listened, songs_per_day, d_female, prob, prediction = row  # type: ignore\n",
    "#    print(userId, prob[1], prediction)"
   ]
  },
  {
   "cell_type": "code",
   "execution_count": null,
   "metadata": {},
   "outputs": [],
   "source": [
    "#print(rf.explainParams())\n",
    "#cvModel.avgMetrics"
   ]
  },
  {
   "cell_type": "markdown",
   "metadata": {},
   "source": [
    "# Final Steps\n",
    "Clean up your code, adding comments and renaming variables to make the code easier to read and maintain. Refer to the Spark Project Overview page and Data Scientist Capstone Project Rubric to make sure you are including all components of the capstone project and meet all expectations. Remember, this includes thorough documentation in a README file in a Github repository, as well as a web app or blog post."
   ]
  },
  {
   "cell_type": "code",
   "execution_count": null,
   "metadata": {},
   "outputs": [],
   "source": [
    "# compare against:\n",
    "# https://github.com/stephanieirvine/Udacity-Data-Scientist-Nanodegree/blob/main/Project%204/Sparkify.ipynb\n",
    "# blog: https://medium.com/swlh/predicting-churn-with-pyspark-4c8edc8a19e0\n",
    "\n",
    "# https://towardsdatascience.com/predicting-customer-churn-using-pyspark-6a78a78a8412"
   ]
  }
 ],
 "metadata": {
  "kernelspec": {
   "display_name": "Python 3",
   "language": "python",
   "name": "python3"
  },
  "language_info": {
   "codemirror_mode": {
    "name": "ipython",
    "version": 3
   },
   "file_extension": ".py",
   "mimetype": "text/x-python",
   "name": "python",
   "nbconvert_exporter": "python",
   "pygments_lexer": "ipython3",
   "version": "3.6.3"
  }
 },
 "nbformat": 4,
 "nbformat_minor": 2
}
